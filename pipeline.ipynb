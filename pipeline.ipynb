{
 "cells": [
  {
   "cell_type": "code",
   "execution_count": null,
   "metadata": {
    "collapsed": true
   },
   "outputs": [],
   "source": [
    "!pip install -r requirements.txt"
   ]
  },
  {
   "cell_type": "code",
   "execution_count": 1,
   "metadata": {},
   "outputs": [
    {
     "name": "stdout",
     "output_type": "stream",
     "text": [
      "/bin/sh: apt-get: command not found\r\n"
     ]
    }
   ],
   "source": [
    "!apt-get install protobuf-compiler"
   ]
  },
  {
   "cell_type": "code",
   "execution_count": 2,
   "metadata": {},
   "outputs": [],
   "source": [
    "!protoc object_detection/protos/*.proto --python_out=."
   ]
  },
  {
   "cell_type": "code",
   "execution_count": 3,
   "metadata": {},
   "outputs": [
    {
     "ename": "SyntaxError",
     "evalue": "invalid syntax (<ipython-input-3-d11e2cc0ccdb>, line 1)",
     "traceback": [
      "\u001b[0;36m  File \u001b[0;32m\"<ipython-input-3-d11e2cc0ccdb>\"\u001b[0;36m, line \u001b[0;32m1\u001b[0m\n\u001b[0;31m    export PYTHONPATH=$PYTHONPATH:`pwd`:`pwd`/slim\u001b[0m\n\u001b[0m                    ^\u001b[0m\n\u001b[0;31mSyntaxError\u001b[0m\u001b[0;31m:\u001b[0m invalid syntax\n"
     ],
     "output_type": "error"
    }
   ],
   "source": [
    "export PYTHONPATH=$PYTHONPATH:`pwd`:`pwd`/slim"
   ]
  },
  {
   "cell_type": "code",
   "execution_count": 6,
   "metadata": {},
   "outputs": [
    {
     "name": "stdout",
     "output_type": "stream",
     "text": [
      "WARNING:root:Could not find /Users/vasya/Documents/ML/Object-Detection-Quidditch/images/_DSC4168_6zGmt04S4q.jpg.xml, ignoring example.\r\n",
      "WARNING:root:Could not find /Users/vasya/Documents/ML/Object-Detection-Quidditch/images/_DSC4168_DnK8vXRmAP.jpg.xml, ignoring example.\r\n",
      "WARNING:root:Could not find /Users/vasya/Documents/ML/Object-Detection-Quidditch/images/_DSC4155_2GHS6GnPO1.jpg.xml, ignoring example.\r\n",
      "WARNING:root:Could not find /Users/vasya/Documents/ML/Object-Detection-Quidditch/images/_DSC4168_DhM3xg7Z9B.jpg.xml, ignoring example.\r\n",
      "WARNING:root:Could not find /Users/vasya/Documents/ML/Object-Detection-Quidditch/images/_DSC4155_nx3ags7uNH.jpg.xml, ignoring example.\r\n",
      "WARNING:root:Could not find /Users/vasya/Documents/ML/Object-Detection-Quidditch/images/_DSC4155_hQGgxgeuzS.jpg.xml, ignoring example.\r\n",
      "WARNING:root:Could not find /Users/vasya/Documents/ML/Object-Detection-Quidditch/images/_DSC4155_q6fjLut9os.jpg.xml, ignoring example.\r\n",
      "WARNING:root:Could not find /Users/vasya/Documents/ML/Object-Detection-Quidditch/images/_DSC4168_VP2UeEY2fJ.jpg.xml, ignoring example.\r\n",
      "WARNING:root:Could not find /Users/vasya/Documents/ML/Object-Detection-Quidditch/images/_DSC4174_foH6e6NrUK.jpg.xml, ignoring example.\r\n",
      "WARNING:root:Could not find /Users/vasya/Documents/ML/Object-Detection-Quidditch/images/_DSC4162_O3bCoc55S4.jpg.xml, ignoring example.\r\n",
      "WARNING:root:Could not find /Users/vasya/Documents/ML/Object-Detection-Quidditch/images/_DSC4162_N56bC9j6TC.jpg.xml, ignoring example.\r\n",
      "WARNING:root:Could not find /Users/vasya/Documents/ML/Object-Detection-Quidditch/images/_DSC4168_71JrQ5DwqL.jpg.xml, ignoring example.\r\n",
      "WARNING:root:Could not find /Users/vasya/Documents/ML/Object-Detection-Quidditch/images/_DSC4155_n1yvweDcuW.jpg.xml, ignoring example.\r\n",
      "WARNING:root:Could not find /Users/vasya/Documents/ML/Object-Detection-Quidditch/images/_DSC4168_RMgGi4Noop.jpg.xml, ignoring example.\r\n",
      "WARNING:root:Could not find /Users/vasya/Documents/ML/Object-Detection-Quidditch/images/_DSC4162_MTJDbOl0IU.jpg.xml, ignoring example.\r\n",
      "WARNING:root:Could not find /Users/vasya/Documents/ML/Object-Detection-Quidditch/images/_DSC4162_4q8PoKC1Vm.jpg.xml, ignoring example.\r\n",
      "WARNING:root:Could not find /Users/vasya/Documents/ML/Object-Detection-Quidditch/images/_DSC4162_q4otqviZYP.jpg.xml, ignoring example.\r\n",
      "WARNING:root:Could not find /Users/vasya/Documents/ML/Object-Detection-Quidditch/images/_DSC4168_nofVbXOTxS.jpg.xml, ignoring example.\r\n",
      "WARNING:root:Could not find /Users/vasya/Documents/ML/Object-Detection-Quidditch/images/_DSC4168_sobteOyT84.jpg.xml, ignoring example.\r\n",
      "WARNING:root:Could not find /Users/vasya/Documents/ML/Object-Detection-Quidditch/images/_DSC4155_hL8owufzsE.jpg.xml, ignoring example.\r\n",
      "WARNING:root:Could not find /Users/vasya/Documents/ML/Object-Detection-Quidditch/images/_DSC4168_6BWc7SMt6M.jpg.xml, ignoring example.\r\n",
      "WARNING:root:Could not find /Users/vasya/Documents/ML/Object-Detection-Quidditch/images/_DSC4168_g4WQPKZ3Zp.jpg.xml, ignoring example.\r\n",
      "WARNING:root:Could not find /Users/vasya/Documents/ML/Object-Detection-Quidditch/images/_DSC4168_OMqYY0FoxD.jpg.xml, ignoring example.\r\n",
      "WARNING:root:Could not find /Users/vasya/Documents/ML/Object-Detection-Quidditch/images/_DSC4168_Q886MuVE5B.jpg.xml, ignoring example.\r\n",
      "WARNING:root:Could not find /Users/vasya/Documents/ML/Object-Detection-Quidditch/images/_DSC4168_9Y0kZw3bAA.jpg.xml, ignoring example.\r\n",
      "WARNING:root:Could not find /Users/vasya/Documents/ML/Object-Detection-Quidditch/images/_DSC4155_ridIknYR6M.jpg.xml, ignoring example.\r\n",
      "WARNING:root:Could not find /Users/vasya/Documents/ML/Object-Detection-Quidditch/images/_DSC4168_qCETxbfeV7.jpg.xml, ignoring example.\r\n",
      "WARNING:root:Could not find /Users/vasya/Documents/ML/Object-Detection-Quidditch/images/_DSC4162_MDJJ4LPFsC.jpg.xml, ignoring example.\r\n",
      "WARNING:root:Could not find /Users/vasya/Documents/ML/Object-Detection-Quidditch/images/_DSC4168_5F3wo6QfbF.jpg.xml, ignoring example.\r\n",
      "WARNING:root:Could not find /Users/vasya/Documents/ML/Object-Detection-Quidditch/images/_DSC4155_e5o4k583d0.jpg.xml, ignoring example.\r\n",
      "WARNING:root:Could not find /Users/vasya/Documents/ML/Object-Detection-Quidditch/images/_DSC4174_NxOUkda8zv.jpg.xml, ignoring example.\r\n",
      "WARNING:root:Could not find /Users/vasya/Documents/ML/Object-Detection-Quidditch/images/_DSC4168_vxj5LLCEn9.jpg.xml, ignoring example.\r\n",
      "WARNING:root:Could not find /Users/vasya/Documents/ML/Object-Detection-Quidditch/images/_DSC4155_4nnMxa20Xp.jpg.xml, ignoring example.\r\n",
      "WARNING:root:Could not find /Users/vasya/Documents/ML/Object-Detection-Quidditch/images/_DSC4155_NPgM27xFcz.jpg.xml, ignoring example.\r\n",
      "WARNING:root:Could not find /Users/vasya/Documents/ML/Object-Detection-Quidditch/images/_DSC4174_LssjXJeMo2.jpg.xml, ignoring example.\r\n",
      "WARNING:root:Could not find /Users/vasya/Documents/ML/Object-Detection-Quidditch/images/_DSC4155_5LlqMtx10M.jpg.xml, ignoring example.\r\n",
      "WARNING:root:Could not find /Users/vasya/Documents/ML/Object-Detection-Quidditch/images/_DSC4155_iz91IymXgw.jpg.xml, ignoring example.\r\n",
      "WARNING:root:Could not find /Users/vasya/Documents/ML/Object-Detection-Quidditch/images/_DSC4168_WTkjkdlO6r.jpg.xml, ignoring example.\r\n",
      "WARNING:root:Could not find /Users/vasya/Documents/ML/Object-Detection-Quidditch/images/_DSC4155_2pudeWQAPc.jpg.xml, ignoring example.\r\n",
      "WARNING:root:Could not find /Users/vasya/Documents/ML/Object-Detection-Quidditch/images/_DSC4155_B7RcdXrSHW.jpg.xml, ignoring example.\r\n",
      "WARNING:root:Could not find /Users/vasya/Documents/ML/Object-Detection-Quidditch/images/_DSC4155_TyIxNj6OEt.jpg.xml, ignoring example.\r\n",
      "WARNING:root:Could not find /Users/vasya/Documents/ML/Object-Detection-Quidditch/images/_DSC4162_W3IRNZ6glg.jpg.xml, ignoring example.\r\n",
      "WARNING:root:Could not find /Users/vasya/Documents/ML/Object-Detection-Quidditch/images/_DSC4170_VHZR8grORo.jpg.xml, ignoring example.\r\n",
      "WARNING:root:Could not find /Users/vasya/Documents/ML/Object-Detection-Quidditch/images/_DSC4162_BdbfBlKafA.jpg.xml, ignoring example.\r\n",
      "WARNING:root:Could not find /Users/vasya/Documents/ML/Object-Detection-Quidditch/images/_DSC4162_T3q6XqOLPJ.jpg.xml, ignoring example.\r\n",
      "WARNING:root:Could not find /Users/vasya/Documents/ML/Object-Detection-Quidditch/images/_DSC4162_BhU1iwv3nM.jpg.xml, ignoring example.\r\n",
      "WARNING:root:Could not find /Users/vasya/Documents/ML/Object-Detection-Quidditch/images/_DSC4168_EsVFfYsXQ4.jpg.xml, ignoring example.\r\n",
      "WARNING:root:Could not find /Users/vasya/Documents/ML/Object-Detection-Quidditch/images/_DSC4162_ySWeLYt0ue.jpg.xml, ignoring example.\r\n",
      "WARNING:root:Could not find /Users/vasya/Documents/ML/Object-Detection-Quidditch/images/_DSC4162_BUIiLHL0Kx.jpg.xml, ignoring example.\r\n",
      "WARNING:root:Could not find /Users/vasya/Documents/ML/Object-Detection-Quidditch/images/_DSC4162_Em1xpnogDl.jpg.xml, ignoring example.\r\n",
      "WARNING:root:Could not find /Users/vasya/Documents/ML/Object-Detection-Quidditch/images/_DSC4170_k42KT76zks.jpg.xml, ignoring example.\r\n",
      "WARNING:root:Could not find /Users/vasya/Documents/ML/Object-Detection-Quidditch/images/_DSC4155_AaRzYTqp9Q.jpg.xml, ignoring example.\r\n",
      "WARNING:root:Could not find /Users/vasya/Documents/ML/Object-Detection-Quidditch/images/_DSC4162_EJFLnomVrB.jpg.xml, ignoring example.\r\n",
      "WARNING:root:Could not find /Users/vasya/Documents/ML/Object-Detection-Quidditch/images/_DSC4168_vhvE7xIDIj.jpg.xml, ignoring example.\r\n",
      "WARNING:root:Could not find /Users/vasya/Documents/ML/Object-Detection-Quidditch/images/_DSC4155_08nop8OqHB.jpg.xml, ignoring example.\r\n",
      "WARNING:root:Could not find /Users/vasya/Documents/ML/Object-Detection-Quidditch/images/_DSC4155_aWE2uxolH3.jpg.xml, ignoring example.\r\n",
      "WARNING:root:Could not find /Users/vasya/Documents/ML/Object-Detection-Quidditch/images/_DSC4155_kqJkeNpalh.jpg.xml, ignoring example.\r\n",
      "WARNING:root:Could not find /Users/vasya/Documents/ML/Object-Detection-Quidditch/images/_DSC4168_0kAEWMlk7c.jpg.xml, ignoring example.\r\n",
      "WARNING:root:Could not find /Users/vasya/Documents/ML/Object-Detection-Quidditch/images/_DSC4155_Tz9ES2QJ2l.jpg.xml, ignoring example.\r\n",
      "WARNING:root:Could not find /Users/vasya/Documents/ML/Object-Detection-Quidditch/images/_DSC4168_FrKVP7gpEY.jpg.xml, ignoring example.\r\n",
      "WARNING:root:Could not find /Users/vasya/Documents/ML/Object-Detection-Quidditch/images/_DSC4176_Dux0XkR0Hm.jpg.xml, ignoring example.\r\n",
      "WARNING:root:Could not find /Users/vasya/Documents/ML/Object-Detection-Quidditch/images/_DSC4162_ZWJCaxrExL.jpg.xml, ignoring example.\r\n",
      "WARNING:root:Could not find /Users/vasya/Documents/ML/Object-Detection-Quidditch/images/_DSC4168_yBKDcKRWCa.jpg.xml, ignoring example.\r\n",
      "WARNING:root:Could not find /Users/vasya/Documents/ML/Object-Detection-Quidditch/images/_DSC4155_aY58QuXrzD.jpg.xml, ignoring example.\r\n",
      "WARNING:root:Could not find /Users/vasya/Documents/ML/Object-Detection-Quidditch/images/_DSC4155_wUb1faNwkx.jpg.xml, ignoring example.\r\n",
      "WARNING:root:Could not find /Users/vasya/Documents/ML/Object-Detection-Quidditch/images/_DSC4170_YyJykKzdfY.jpg.xml, ignoring example.\r\n",
      "WARNING:root:Could not find /Users/vasya/Documents/ML/Object-Detection-Quidditch/images/_DSC4155_UvwMokbGHD.jpg.xml, ignoring example.\r\n",
      "WARNING:root:Could not find /Users/vasya/Documents/ML/Object-Detection-Quidditch/images/_DSC4162_QUM1kFuPKG.jpg.xml, ignoring example.\r\n",
      "WARNING:root:Could not find /Users/vasya/Documents/ML/Object-Detection-Quidditch/images/_DSC4155_0NldogLXju.jpg.xml, ignoring example.\r\n",
      "WARNING:root:Could not find /Users/vasya/Documents/ML/Object-Detection-Quidditch/images/_DSC4170_H2oVAUGlIT.jpg.xml, ignoring example.\r\n",
      "WARNING:root:Could not find /Users/vasya/Documents/ML/Object-Detection-Quidditch/images/_DSC4168_mHeNkUWz3M.jpg.xml, ignoring example.\r\n",
      "WARNING:root:Could not find /Users/vasya/Documents/ML/Object-Detection-Quidditch/images/_DSC4170_M474t50hlM.jpg.xml, ignoring example.\r\n",
      "WARNING:root:Could not find /Users/vasya/Documents/ML/Object-Detection-Quidditch/images/_DSC4155_JlwUqu0X3L.jpg.xml, ignoring example.\r\n",
      "WARNING:root:Could not find /Users/vasya/Documents/ML/Object-Detection-Quidditch/images/_DSC4162_a798vpsLO6.jpg.xml, ignoring example.\r\n",
      "WARNING:root:Could not find /Users/vasya/Documents/ML/Object-Detection-Quidditch/images/_DSC4170_NBlrWnkZkk.jpg.xml, ignoring example.\r\n",
      "WARNING:root:Could not find /Users/vasya/Documents/ML/Object-Detection-Quidditch/images/_DSC4155_imtYvKe8Gz.jpg.xml, ignoring example.\r\n",
      "WARNING:root:Could not find /Users/vasya/Documents/ML/Object-Detection-Quidditch/images/_DSC4170_hcOPwRBfPX.jpg.xml, ignoring example.\r\n",
      "WARNING:root:Could not find /Users/vasya/Documents/ML/Object-Detection-Quidditch/images/_DSC4170_G3cwbDyFrB.jpg.xml, ignoring example.\r\n",
      "WARNING:root:Could not find /Users/vasya/Documents/ML/Object-Detection-Quidditch/images/_DSC4170_b96Stnxesw.jpg.xml, ignoring example.\r\n",
      "WARNING:root:Could not find /Users/vasya/Documents/ML/Object-Detection-Quidditch/images/_DSC4174_Qzko3f8FAm.jpg.xml, ignoring example.\r\n",
      "WARNING:root:Could not find /Users/vasya/Documents/ML/Object-Detection-Quidditch/images/_DSC4155_Ib9LweX96B.jpg.xml, ignoring example.\r\n",
      "WARNING:root:Could not find /Users/vasya/Documents/ML/Object-Detection-Quidditch/images/_DSC4168_rCwghV7QPe.jpg.xml, ignoring example.\r\n",
      "WARNING:root:Could not find /Users/vasya/Documents/ML/Object-Detection-Quidditch/images/_DSC4168_IsEpmCW7cI.jpg.xml, ignoring example.\r\n",
      "WARNING:root:Could not find /Users/vasya/Documents/ML/Object-Detection-Quidditch/images/_DSC4162_gU8XHX4VIV.jpg.xml, ignoring example.\r\n",
      "WARNING:root:Could not find /Users/vasya/Documents/ML/Object-Detection-Quidditch/images/_DSC4155_Q64xVZSxOI.jpg.xml, ignoring example.\r\n",
      "WARNING:root:Could not find /Users/vasya/Documents/ML/Object-Detection-Quidditch/images/_DSC4168_MdfmM1ubkK.jpg.xml, ignoring example.\r\n",
      "WARNING:root:Could not find /Users/vasya/Documents/ML/Object-Detection-Quidditch/images/_DSC4168_B4WZXpMQMI.jpg.xml, ignoring example.\r\n",
      "WARNING:root:Could not find /Users/vasya/Documents/ML/Object-Detection-Quidditch/images/_DSC4162_54juiMhfaz.jpg.xml, ignoring example.\r\n",
      "WARNING:root:Could not find /Users/vasya/Documents/ML/Object-Detection-Quidditch/images/_DSC4162_PKuHb19o6i.jpg.xml, ignoring example.\r\n",
      "WARNING:root:Could not find /Users/vasya/Documents/ML/Object-Detection-Quidditch/images/_DSC4168_y6CC0HdG2a.jpg.xml, ignoring example.\r\n",
      "WARNING:root:Could not find /Users/vasya/Documents/ML/Object-Detection-Quidditch/images/_DSC4168_jHgcqTh5bD.jpg.xml, ignoring example.\r\n",
      "WARNING:root:Could not find /Users/vasya/Documents/ML/Object-Detection-Quidditch/images/_DSC4168_AcFFdumgys.jpg.xml, ignoring example.\r\n",
      "WARNING:root:Could not find /Users/vasya/Documents/ML/Object-Detection-Quidditch/images/_DSC4155_BrW2fAOYWQ.jpg.xml, ignoring example.\r\n",
      "WARNING:root:Could not find /Users/vasya/Documents/ML/Object-Detection-Quidditch/images/_DSC4168_birCGwZJHd.jpg.xml, ignoring example.\r\n",
      "WARNING:root:Could not find /Users/vasya/Documents/ML/Object-Detection-Quidditch/images/_DSC4170_OGkchrdnP4.jpg.xml, ignoring example.\r\n",
      "WARNING:root:Could not find /Users/vasya/Documents/ML/Object-Detection-Quidditch/images/_DSC4168_LZHJV9K4Om.jpg.xml, ignoring example.\r\n",
      "WARNING:root:Could not find /Users/vasya/Documents/ML/Object-Detection-Quidditch/images/_DSC4170_IAfVlBLyDk.jpg.xml, ignoring example.\r\n",
      "WARNING:root:Could not find /Users/vasya/Documents/ML/Object-Detection-Quidditch/images/_DSC4155_vUSE8ZFXqu.jpg.xml, ignoring example.\r\n",
      "WARNING:root:Could not find /Users/vasya/Documents/ML/Object-Detection-Quidditch/images/_DSC4162_t7N7jewnQb.jpg.xml, ignoring example.\r\n",
      "WARNING:root:Could not find /Users/vasya/Documents/ML/Object-Detection-Quidditch/images/_DSC4174_yCMbsahgrR.jpg.xml, ignoring example.\r\n",
      "WARNING:root:Could not find /Users/vasya/Documents/ML/Object-Detection-Quidditch/images/_DSC4155_oW3bIFCNfr.jpg.xml, ignoring example.\r\n",
      "WARNING:root:Could not find /Users/vasya/Documents/ML/Object-Detection-Quidditch/images/_DSC4155_r35oLdSTWk.jpg.xml, ignoring example.\r\n",
      "WARNING:root:Could not find /Users/vasya/Documents/ML/Object-Detection-Quidditch/images/_DSC4162_pPNMDSLCUZ.jpg.xml, ignoring example.\r\n",
      "WARNING:root:Could not find /Users/vasya/Documents/ML/Object-Detection-Quidditch/images/_DSC4168_7f5nIoAmWp.jpg.xml, ignoring example.\r\n",
      "WARNING:root:Could not find /Users/vasya/Documents/ML/Object-Detection-Quidditch/images/_DSC4168_kYiHz6pZK9.jpg.xml, ignoring example.\r\n",
      "WARNING:root:Could not find /Users/vasya/Documents/ML/Object-Detection-Quidditch/images/_DSC4162_SRWqtXmimj.jpg.xml, ignoring example.\r\n",
      "WARNING:root:Could not find /Users/vasya/Documents/ML/Object-Detection-Quidditch/images/_DSC4168_5eqUzeln8V.jpg.xml, ignoring example.\r\n",
      "WARNING:root:Could not find /Users/vasya/Documents/ML/Object-Detection-Quidditch/images/_DSC4170_psJ6rsB2B4.jpg.xml, ignoring example.\r\n",
      "WARNING:root:Could not find /Users/vasya/Documents/ML/Object-Detection-Quidditch/images/_DSC4168_He9T1KM3yf.jpg.xml, ignoring example.\r\n",
      "WARNING:root:Could not find /Users/vasya/Documents/ML/Object-Detection-Quidditch/images/_DSC4162_KEtBH5rwMU.jpg.xml, ignoring example.\r\n",
      "WARNING:root:Could not find /Users/vasya/Documents/ML/Object-Detection-Quidditch/images/_DSC4168_pPPdsWnuHA.jpg.xml, ignoring example.\r\n",
      "WARNING:root:Could not find /Users/vasya/Documents/ML/Object-Detection-Quidditch/images/_DSC4168_mZh8lo3hSw.jpg.xml, ignoring example.\r\n",
      "WARNING:root:Could not find /Users/vasya/Documents/ML/Object-Detection-Quidditch/images/_DSC4155_Iepm8GzUP4.jpg.xml, ignoring example.\r\n",
      "WARNING:root:Could not find /Users/vasya/Documents/ML/Object-Detection-Quidditch/images/_DSC4168_FE0ZIk336X.jpg.xml, ignoring example.\r\n",
      "WARNING:root:Could not find /Users/vasya/Documents/ML/Object-Detection-Quidditch/images/_DSC4168_bdZWkY5Fmj.jpg.xml, ignoring example.\r\n",
      "WARNING:root:Could not find /Users/vasya/Documents/ML/Object-Detection-Quidditch/images/_DSC4162_dtrCpuuCzZ.jpg.xml, ignoring example.\r\n",
      "WARNING:root:Could not find /Users/vasya/Documents/ML/Object-Detection-Quidditch/images/_DSC4162_uR555fA6LL.jpg.xml, ignoring example.\r\n",
      "WARNING:root:Could not find /Users/vasya/Documents/ML/Object-Detection-Quidditch/images/_DSC4170_MDpnv4fX7l.jpg.xml, ignoring example.\r\n",
      "WARNING:root:Could not find /Users/vasya/Documents/ML/Object-Detection-Quidditch/images/_DSC4155_UpA5NLuePl.jpg.xml, ignoring example.\r\n",
      "WARNING:root:Could not find /Users/vasya/Documents/ML/Object-Detection-Quidditch/images/_DSC4168_CH5TPcHvAk.jpg.xml, ignoring example.\r\n",
      "WARNING:root:Could not find /Users/vasya/Documents/ML/Object-Detection-Quidditch/images/_DSC4155_GhCRFAwfsy.jpg.xml, ignoring example.\r\n",
      "WARNING:root:Could not find /Users/vasya/Documents/ML/Object-Detection-Quidditch/images/_DSC4174_3RituhGEOq.jpg.xml, ignoring example.\r\n",
      "WARNING:root:Could not find /Users/vasya/Documents/ML/Object-Detection-Quidditch/images/_DSC4168_TrYXnmsWM8.jpg.xml, ignoring example.\r\n",
      "WARNING:root:Could not find /Users/vasya/Documents/ML/Object-Detection-Quidditch/images/_DSC4162_UCymPNApZM.jpg.xml, ignoring example.\r\n",
      "WARNING:root:Could not find /Users/vasya/Documents/ML/Object-Detection-Quidditch/images/_DSC4162_3BEpOBd3hK.jpg.xml, ignoring example.\r\n",
      "WARNING:root:Could not find /Users/vasya/Documents/ML/Object-Detection-Quidditch/images/_DSC4162_ZsWZjxmAhd.jpg.xml, ignoring example.\r\n",
      "WARNING:root:Could not find /Users/vasya/Documents/ML/Object-Detection-Quidditch/images/_DSC4170_wvwoXx5IxA.jpg.xml, ignoring example.\r\n",
      "WARNING:root:Could not find /Users/vasya/Documents/ML/Object-Detection-Quidditch/images/_DSC4155_SkuJmkfL7t.jpg.xml, ignoring example.\r\n",
      "WARNING:root:Could not find /Users/vasya/Documents/ML/Object-Detection-Quidditch/images/_DSC4155_bcCsVx1Syo.jpg.xml, ignoring example.\r\n",
      "WARNING:root:Could not find /Users/vasya/Documents/ML/Object-Detection-Quidditch/images/_DSC4168_fJB0U7Oy2L.jpg.xml, ignoring example.\r\n",
      "WARNING:root:Could not find /Users/vasya/Documents/ML/Object-Detection-Quidditch/images/_DSC4162_o4bg9QMJ6d.jpg.xml, ignoring example.\r\n",
      "WARNING:root:Could not find /Users/vasya/Documents/ML/Object-Detection-Quidditch/images/_DSC4162_btGk5mCrgm.jpg.xml, ignoring example.\r\n",
      "WARNING:root:Could not find /Users/vasya/Documents/ML/Object-Detection-Quidditch/images/_DSC4170_vTu5rOV1kU.jpg.xml, ignoring example.\r\n",
      "WARNING:root:Could not find /Users/vasya/Documents/ML/Object-Detection-Quidditch/images/_DSC4168_MtL9IvquZs.jpg.xml, ignoring example.\r\n",
      "WARNING:root:Could not find /Users/vasya/Documents/ML/Object-Detection-Quidditch/images/_DSC4155_AYIgnh8vkA.jpg.xml, ignoring example.\r\n",
      "WARNING:root:Could not find /Users/vasya/Documents/ML/Object-Detection-Quidditch/images/_DSC4162_e21SGvNljd.jpg.xml, ignoring example.\r\n",
      "WARNING:root:Could not find /Users/vasya/Documents/ML/Object-Detection-Quidditch/images/_DSC4170_h12q1p3s9D.jpg.xml, ignoring example.\r\n",
      "WARNING:root:Could not find /Users/vasya/Documents/ML/Object-Detection-Quidditch/images/_DSC4155_zgZTxLwv33.jpg.xml, ignoring example.\r\n",
      "WARNING:root:Could not find /Users/vasya/Documents/ML/Object-Detection-Quidditch/images/_DSC4168_HHf7ltkgS5.jpg.xml, ignoring example.\r\n",
      "WARNING:root:Could not find /Users/vasya/Documents/ML/Object-Detection-Quidditch/images/_DSC4162_YBCunc4kyj.jpg.xml, ignoring example.\r\n",
      "WARNING:root:Could not find /Users/vasya/Documents/ML/Object-Detection-Quidditch/images/_DSC4168_gTsFXMBupf.jpg.xml, ignoring example.\r\n",
      "WARNING:root:Could not find /Users/vasya/Documents/ML/Object-Detection-Quidditch/images/_DSC4174_Ofc5F8m4Xb.jpg.xml, ignoring example.\r\n",
      "WARNING:root:Could not find /Users/vasya/Documents/ML/Object-Detection-Quidditch/images/_DSC4168_CO9tPgwQot.jpg.xml, ignoring example.\r\n",
      "WARNING:root:Could not find /Users/vasya/Documents/ML/Object-Detection-Quidditch/images/_DSC4155_NgRg02zBMP.jpg.xml, ignoring example.\r\n",
      "WARNING:root:Could not find /Users/vasya/Documents/ML/Object-Detection-Quidditch/images/_DSC4155_bPeHbxjq68.jpg.xml, ignoring example.\r\n",
      "WARNING:root:Could not find /Users/vasya/Documents/ML/Object-Detection-Quidditch/images/_DSC4155_yTHZgzEGlW.jpg.xml, ignoring example.\r\n",
      "WARNING:root:Could not find /Users/vasya/Documents/ML/Object-Detection-Quidditch/images/_DSC4155_rxKSIHXRvH.jpg.xml, ignoring example.\r\n",
      "WARNING:root:Could not find /Users/vasya/Documents/ML/Object-Detection-Quidditch/images/_DSC4162_iWjieMOk6v.jpg.xml, ignoring example.\r\n",
      "WARNING:root:Could not find /Users/vasya/Documents/ML/Object-Detection-Quidditch/images/_DSC4162_jt8tu85seo.jpg.xml, ignoring example.\r\n",
      "WARNING:root:Could not find /Users/vasya/Documents/ML/Object-Detection-Quidditch/images/_DSC4155_l4FLbzbjYr.jpg.xml, ignoring example.\r\n",
      "WARNING:root:Could not find /Users/vasya/Documents/ML/Object-Detection-Quidditch/images/_DSC4162_jQIMtshIL8.jpg.xml, ignoring example.\r\n",
      "WARNING:root:Could not find /Users/vasya/Documents/ML/Object-Detection-Quidditch/images/_DSC4162_wOP6kGKt0H.jpg.xml, ignoring example.\r\n",
      "WARNING:root:Could not find /Users/vasya/Documents/ML/Object-Detection-Quidditch/images/_DSC4168_xKMJR0dqMf.jpg.xml, ignoring example.\r\n",
      "WARNING:root:Could not find /Users/vasya/Documents/ML/Object-Detection-Quidditch/images/_DSC4170_K6Z62pUPcN.jpg.xml, ignoring example.\r\n",
      "WARNING:root:Could not find /Users/vasya/Documents/ML/Object-Detection-Quidditch/images/_DSC4155_eU8g0MRh4a.jpg.xml, ignoring example.\r\n",
      "WARNING:root:Could not find /Users/vasya/Documents/ML/Object-Detection-Quidditch/images/_DSC4170_Qf9utwg0F4.jpg.xml, ignoring example.\r\n",
      "WARNING:root:Could not find /Users/vasya/Documents/ML/Object-Detection-Quidditch/images/_DSC4168_NqUiy3XRRH.jpg.xml, ignoring example.\r\n",
      "WARNING:root:Could not find /Users/vasya/Documents/ML/Object-Detection-Quidditch/images/_DSC4162_8PZ98RNlAZ.jpg.xml, ignoring example.\r\n",
      "WARNING:root:Could not find /Users/vasya/Documents/ML/Object-Detection-Quidditch/images/_DSC4155_t9DTSnoWu7.jpg.xml, ignoring example.\r\n",
      "WARNING:root:Could not find /Users/vasya/Documents/ML/Object-Detection-Quidditch/images/_DSC4174_6ak8aTRSFW.jpg.xml, ignoring example.\r\n",
      "WARNING:root:Could not find /Users/vasya/Documents/ML/Object-Detection-Quidditch/images/_DSC4155_BLuKrvuHMD.jpg.xml, ignoring example.\r\n",
      "WARNING:root:Could not find /Users/vasya/Documents/ML/Object-Detection-Quidditch/images/_DSC4155_qgkyA6vlyV.jpg.xml, ignoring example.\r\n",
      "WARNING:root:Could not find /Users/vasya/Documents/ML/Object-Detection-Quidditch/images/_DSC4168_FU3VY4vWKv.jpg.xml, ignoring example.\r\n",
      "WARNING:root:Could not find /Users/vasya/Documents/ML/Object-Detection-Quidditch/images/_DSC4162_j7GrfMCvDK.jpg.xml, ignoring example.\r\n",
      "WARNING:root:Could not find /Users/vasya/Documents/ML/Object-Detection-Quidditch/images/_DSC4168_l5nrwgz5nv.jpg.xml, ignoring example.\r\n",
      "WARNING:root:Could not find /Users/vasya/Documents/ML/Object-Detection-Quidditch/images/_DSC4168_m84E4mEEO7.jpg.xml, ignoring example.\r\n",
      "WARNING:root:Could not find /Users/vasya/Documents/ML/Object-Detection-Quidditch/images/_DSC4162_39mV9EkLQJ.jpg.xml, ignoring example.\r\n",
      "WARNING:root:Could not find /Users/vasya/Documents/ML/Object-Detection-Quidditch/images/_DSC4168_E8uzeNxFLG.jpg.xml, ignoring example.\r\n",
      "WARNING:root:Could not find /Users/vasya/Documents/ML/Object-Detection-Quidditch/images/_DSC4155_c7NLSJppju.jpg.xml, ignoring example.\r\n",
      "WARNING:root:Could not find /Users/vasya/Documents/ML/Object-Detection-Quidditch/images/_DSC4162_kEv7TbNp8F.jpg.xml, ignoring example.\r\n",
      "WARNING:root:Could not find /Users/vasya/Documents/ML/Object-Detection-Quidditch/images/_DSC4155_hsbqkvEkWO.jpg.xml, ignoring example.\r\n",
      "WARNING:root:Could not find /Users/vasya/Documents/ML/Object-Detection-Quidditch/images/_DSC4168_CwxJTFdFZn.jpg.xml, ignoring example.\r\n",
      "WARNING:root:Could not find /Users/vasya/Documents/ML/Object-Detection-Quidditch/images/_DSC4162_wPZU1OJ434.jpg.xml, ignoring example.\r\n",
      "WARNING:root:Could not find /Users/vasya/Documents/ML/Object-Detection-Quidditch/images/_DSC4155_AdPK9YJQgX.jpg.xml, ignoring example.\r\n",
      "WARNING:root:Could not find /Users/vasya/Documents/ML/Object-Detection-Quidditch/images/_DSC4155_xhrZvLVpNj.jpg.xml, ignoring example.\r\n",
      "WARNING:root:Could not find /Users/vasya/Documents/ML/Object-Detection-Quidditch/images/_DSC4170_omxiYTStCQ.jpg.xml, ignoring example.\r\n",
      "WARNING:root:Could not find /Users/vasya/Documents/ML/Object-Detection-Quidditch/images/_DSC4162_G478IFlKN5.jpg.xml, ignoring example.\r\n",
      "WARNING:root:Could not find /Users/vasya/Documents/ML/Object-Detection-Quidditch/images/_DSC4162_IXBTqaXn41.jpg.xml, ignoring example.\r\n",
      "WARNING:root:Could not find /Users/vasya/Documents/ML/Object-Detection-Quidditch/images/_DSC4155_enqmmLCyMe.jpg.xml, ignoring example.\r\n",
      "WARNING:root:Could not find /Users/vasya/Documents/ML/Object-Detection-Quidditch/images/_DSC4162_KgYqHJmNYm.jpg.xml, ignoring example.\r\n",
      "WARNING:root:Could not find /Users/vasya/Documents/ML/Object-Detection-Quidditch/images/_DSC4170_RiwOPozFVc.jpg.xml, ignoring example.\r\n",
      "WARNING:root:Could not find /Users/vasya/Documents/ML/Object-Detection-Quidditch/images/_DSC4174_DrChiQ1lXI.jpg.xml, ignoring example.\r\n",
      "WARNING:root:Could not find /Users/vasya/Documents/ML/Object-Detection-Quidditch/images/_DSC4162_FBZsx2k5zv.jpg.xml, ignoring example.\r\n",
      "WARNING:root:Could not find /Users/vasya/Documents/ML/Object-Detection-Quidditch/images/_DSC4170_qKumzVXkhT.jpg.xml, ignoring example.\r\n",
      "WARNING:root:Could not find /Users/vasya/Documents/ML/Object-Detection-Quidditch/images/_DSC4155_kspGgTxkNy.jpg.xml, ignoring example.\r\n",
      "WARNING:root:Could not find /Users/vasya/Documents/ML/Object-Detection-Quidditch/images/_DSC4170_CUagsDViuX.jpg.xml, ignoring example.\r\n",
      "WARNING:root:Could not find /Users/vasya/Documents/ML/Object-Detection-Quidditch/images/_DSC4162_FZSkSuy4DD.jpg.xml, ignoring example.\r\n",
      "WARNING:root:Could not find /Users/vasya/Documents/ML/Object-Detection-Quidditch/images/_DSC4170_wccCI1fQ75.jpg.xml, ignoring example.\r\n",
      "WARNING:root:Could not find /Users/vasya/Documents/ML/Object-Detection-Quidditch/images/_DSC4168_ucKixwt3F8.jpg.xml, ignoring example.\r\n",
      "WARNING:root:Could not find /Users/vasya/Documents/ML/Object-Detection-Quidditch/images/_DSC4155_KUG1lfgkBp.jpg.xml, ignoring example.\r\n",
      "WARNING:root:Could not find /Users/vasya/Documents/ML/Object-Detection-Quidditch/images/_DSC4155_1kkWaKKgZY.jpg.xml, ignoring example.\r\n",
      "WARNING:root:Could not find /Users/vasya/Documents/ML/Object-Detection-Quidditch/images/_DSC4162_2pE9tZAl51.jpg.xml, ignoring example.\r\n",
      "WARNING:root:Could not find /Users/vasya/Documents/ML/Object-Detection-Quidditch/images/_DSC4168_GUHl8xqUAH.jpg.xml, ignoring example.\r\n",
      "WARNING:root:Could not find /Users/vasya/Documents/ML/Object-Detection-Quidditch/images/_DSC4162_vlCLurla9A.jpg.xml, ignoring example.\r\n",
      "WARNING:root:Could not find /Users/vasya/Documents/ML/Object-Detection-Quidditch/images/_DSC4155_soqnmtcygz.jpg.xml, ignoring example.\r\n",
      "WARNING:root:Could not find /Users/vasya/Documents/ML/Object-Detection-Quidditch/images/_DSC4162_r100KQZlFc.jpg.xml, ignoring example.\r\n",
      "WARNING:root:Could not find /Users/vasya/Documents/ML/Object-Detection-Quidditch/images/_DSC4170_YYZj0eYH9Q.jpg.xml, ignoring example.\r\n",
      "WARNING:root:Could not find /Users/vasya/Documents/ML/Object-Detection-Quidditch/images/_DSC4168_Ur7gAZZ6wV.jpg.xml, ignoring example.\r\n",
      "WARNING:root:Could not find /Users/vasya/Documents/ML/Object-Detection-Quidditch/images/_DSC4168_Nf1yBam6dC.jpg.xml, ignoring example.\r\n",
      "WARNING:root:Could not find /Users/vasya/Documents/ML/Object-Detection-Quidditch/images/_DSC4168_wgkhRJzHgm.jpg.xml, ignoring example.\r\n",
      "WARNING:root:Could not find /Users/vasya/Documents/ML/Object-Detection-Quidditch/images/_DSC4155_qTJjOzwls8.jpg.xml, ignoring example.\r\n",
      "WARNING:root:Could not find /Users/vasya/Documents/ML/Object-Detection-Quidditch/images/_DSC4168_fDiUD4XDuR.jpg.xml, ignoring example.\r\n",
      "WARNING:root:Could not find /Users/vasya/Documents/ML/Object-Detection-Quidditch/images/_DSC4174_WDlBnNXNoy.jpg.xml, ignoring example.\r\n",
      "WARNING:root:Could not find /Users/vasya/Documents/ML/Object-Detection-Quidditch/images/_DSC4168_HmOx4nGUPf.jpg.xml, ignoring example.\r\n",
      "WARNING:root:Could not find /Users/vasya/Documents/ML/Object-Detection-Quidditch/images/_DSC4168_9Zg3YANVLO.jpg.xml, ignoring example.\r\n",
      "WARNING:root:Could not find /Users/vasya/Documents/ML/Object-Detection-Quidditch/images/_DSC4155_TKeL6bJ8bI.jpg.xml, ignoring example.\r\n",
      "WARNING:root:Could not find /Users/vasya/Documents/ML/Object-Detection-Quidditch/images/_DSC4155_snp2xSIQ7o.jpg.xml, ignoring example.\r\n",
      "WARNING:root:Could not find /Users/vasya/Documents/ML/Object-Detection-Quidditch/images/_DSC4155_ENeZkm5ubd.jpg.xml, ignoring example.\r\n",
      "WARNING:root:Could not find /Users/vasya/Documents/ML/Object-Detection-Quidditch/images/_DSC4155_5wm5y7aT2v.jpg.xml, ignoring example.\r\n",
      "WARNING:root:Could not find /Users/vasya/Documents/ML/Object-Detection-Quidditch/images/_DSC4155_6LpcFIDmYD.jpg.xml, ignoring example.\r\n",
      "WARNING:root:Could not find /Users/vasya/Documents/ML/Object-Detection-Quidditch/images/_DSC4162_rlSpnQMFiu.jpg.xml, ignoring example.\r\n",
      "WARNING:root:Could not find /Users/vasya/Documents/ML/Object-Detection-Quidditch/images/_DSC4168_hC2v8hoFQo.jpg.xml, ignoring example.\r\n",
      "WARNING:root:Could not find /Users/vasya/Documents/ML/Object-Detection-Quidditch/images/_DSC4155_eAQ7n1M5RM.jpg.xml, ignoring example.\r\n",
      "WARNING:root:Could not find /Users/vasya/Documents/ML/Object-Detection-Quidditch/images/_DSC4168_diKPL24xfT.jpg.xml, ignoring example.\r\n",
      "WARNING:root:Could not find /Users/vasya/Documents/ML/Object-Detection-Quidditch/images/_DSC4174_S9L2OFAWOD.jpg.xml, ignoring example.\r\n",
      "WARNING:root:Could not find /Users/vasya/Documents/ML/Object-Detection-Quidditch/images/_DSC4168_QJ5O52xSUf.jpg.xml, ignoring example.\r\n",
      "WARNING:root:Could not find /Users/vasya/Documents/ML/Object-Detection-Quidditch/images/_DSC4155_FFwmanXUEw.jpg.xml, ignoring example.\r\n",
      "WARNING:root:Could not find /Users/vasya/Documents/ML/Object-Detection-Quidditch/images/_DSC4168_Z45WoGWSYj.jpg.xml, ignoring example.\r\n",
      "WARNING:root:Could not find /Users/vasya/Documents/ML/Object-Detection-Quidditch/images/_DSC4155_IxID4dA05f.jpg.xml, ignoring example.\r\n",
      "WARNING:root:Could not find /Users/vasya/Documents/ML/Object-Detection-Quidditch/images/_DSC4155_sVoAOniOHh.jpg.xml, ignoring example.\r\n",
      "WARNING:root:Could not find /Users/vasya/Documents/ML/Object-Detection-Quidditch/images/_DSC4155_uKYVKo3uWf.jpg.xml, ignoring example.\r\n",
      "WARNING:root:Could not find /Users/vasya/Documents/ML/Object-Detection-Quidditch/images/_DSC4155_zoTJdS2gRV.jpg.xml, ignoring example.\r\n",
      "WARNING:root:Could not find /Users/vasya/Documents/ML/Object-Detection-Quidditch/images/_DSC4170_8tVXrfWZh8.jpg.xml, ignoring example.\r\n",
      "WARNING:root:Could not find /Users/vasya/Documents/ML/Object-Detection-Quidditch/images/_DSC4155_5NtzhyiVf2.jpg.xml, ignoring example.\r\n",
      "WARNING:root:Could not find /Users/vasya/Documents/ML/Object-Detection-Quidditch/images/_DSC4155_gMMd4jugIZ.jpg.xml, ignoring example.\r\n",
      "WARNING:root:Could not find /Users/vasya/Documents/ML/Object-Detection-Quidditch/images/_DSC4168_mrOpBveAhw.jpg.xml, ignoring example.\r\n"
     ]
    }
   ],
   "source": [
    "!python create_tf_record.py \\\n",
    "    --data_dir=`pwd` \\\n",
    "    --output_dir=`pwd`"
   ]
  },
  {
   "cell_type": "code",
   "execution_count": 5,
   "metadata": {},
   "outputs": [
    {
     "name": "stdout",
     "output_type": "stream",
     "text": [
      "Traceback (most recent call last):\r\n",
      "  File \"object_detection/train.py\", line 49, in <module>\r\n",
      "    from object_detection import trainer\r\n",
      "  File \"/Users/vasya/Documents/ML/Object-Detection-Quidditch/object_detection/trainer.py\", line 33, in <module>\r\n",
      "    from deployment import model_deploy\r\n",
      "ModuleNotFoundError: No module named 'deployment'\r\n"
     ]
    }
   ],
   "source": [
    "!python object_detection/train.py \\\n",
    "--logtostderr \\\n",
    "--pipeline_config_path=pipeline.config \\\n",
    "--train_dir=train"
   ]
  },
  {
   "cell_type": "code",
   "execution_count": 1,
   "metadata": {},
   "outputs": [
    {
     "name": "stdout",
     "output_type": "stream",
     "text": [
      "Traceback (most recent call last):\r\n  File \"object_detection/export_inference_graph.py\", line 71, in <module>\r\n    from object_detection import exporter\r\n  File \"/Users/vasya/Documents/ML/Object-Detection-Quidditch/object_detection/exporter.py\", line 28, in <module>\r\n    from object_detection.builders import model_builder\r\n  File \"/Users/vasya/Documents/ML/Object-Detection-Quidditch/object_detection/builders/model_builder.py\", line 29, in <module>\r\n    from object_detection.meta_architectures import ssd_meta_arch\r\n  File \"/Users/vasya/Documents/ML/Object-Detection-Quidditch/object_detection/meta_architectures/ssd_meta_arch.py\", line 31, in <module>\r\n    from object_detection.utils import visualization_utils\r\n  File \"/Users/vasya/Documents/ML/Object-Detection-Quidditch/object_detection/utils/visualization_utils.py\", line 24, in <module>\r\n    import matplotlib.pyplot as plt\r\n  File \"/Users/vasya/anaconda3/lib/python3.6/site-packages/matplotlib/pyplot.py\", line 115, in <module>\r\n    _backend_mod, new_figure_manager, draw_if_interactive, _show = pylab_setup()\r\n  File \"/Users/vasya/anaconda3/lib/python3.6/site-packages/matplotlib/backends/__init__.py\", line 62, in pylab_setup\r\n    [backend_name], 0)\r\n  File \"/Users/vasya/anaconda3/lib/python3.6/site-packages/ipykernel/__init__.py\", line 2, in <module>\r\n    from .connect import *\r\n  File \"/Users/vasya/anaconda3/lib/python3.6/site-packages/ipykernel/connect.py\", line 18, in <module>\r\n    import jupyter_client\r\n  File \"/Users/vasya/anaconda3/lib/python3.6/site-packages/jupyter_client/__init__.py\", line 4, in <module>\r\n    from .connect import *\r\n  File \"/Users/vasya/anaconda3/lib/python3.6/site-packages/jupyter_client/connect.py\", line 23, in <module>\r\n    import zmq\r\n  File \"/Users/vasya/anaconda3/lib/python3.6/site-packages/zmq/__init__.py\", line 47, in <module>\r\n    from zmq import backend\r\n  File \"/Users/vasya/anaconda3/lib/python3.6/site-packages/zmq/backend/__init__.py\", line 40, in <module>\r\n    reraise(*exc_info)\r\n  File \"/Users/vasya/anaconda3/lib/python3.6/site-packages/zmq/utils/sixcerpt.py\", line 34, in reraise\r\n    raise value\r\n  File \"/Users/vasya/anaconda3/lib/python3.6/site-packages/zmq/backend/__init__.py\", line 27, in <module>\r\n    _ns = select_backend(first)\r\n  File \"/Users/vasya/anaconda3/lib/python3.6/site-packages/zmq/backend/select.py\", line 26, in select_backend\r\n    mod = __import__(name, fromlist=public_api)\r\n  File \"/Users/vasya/anaconda3/lib/python3.6/site-packages/zmq/backend/cython/__init__.py\", line 6, in <module>\r\n    from . import (constants, error, message, context,\r\nImportError: dlopen(/Users/vasya/anaconda3/lib/python3.6/site-packages/zmq/backend/cython/error.cpython-36m-darwin.so, 2): Library not loaded: @rpath/libsodium.23.dylib\r\n  Referenced from: /Users/vasya/anaconda3/lib/libzmq.5.dylib\r\n  Reason: image not found\r\n"
     ]
    }
   ],
   "source": [
    "!python object_detection/export_inference_graph.py \\\n",
    "--input_type=image_tensor \\\n",
    "--pipeline_config_path=pipeline.config \\\n",
    "--trained_checkpoint_prefix=train/model.ckpt-xxxxx \\\n",
    "--output_directory=output"
   ]
  },
  {
   "cell_type": "code",
   "execution_count": null,
   "metadata": {},
   "outputs": [],
   "source": [
    "python object_detection/inference.py \\\n",
    "--input_dir={PATH} \\\n",
    "--output_dir={PATH} \\\n",
    "--label_map={PATH} \\\n",
    "--frozen_graph={PATH} \\\n",
    "--num_output_classes={NUM}"
   ]
  }
 ],
 "metadata": {
  "kernelspec": {
   "display_name": "Python 3",
   "language": "python",
   "name": "python3"
  },
  "language_info": {
   "codemirror_mode": {
    "name": "ipython",
    "version": 3
   },
   "file_extension": ".py",
   "mimetype": "text/x-python",
   "name": "python",
   "nbconvert_exporter": "python",
   "pygments_lexer": "ipython3",
   "version": "3.6.4"
  }
 },
 "nbformat": 4,
 "nbformat_minor": 1
}
