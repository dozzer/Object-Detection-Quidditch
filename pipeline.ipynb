{
 "cells": [
  {
   "cell_type": "code",
   "execution_count": null,
   "metadata": {
    "collapsed": true
   },
   "outputs": [],
   "source": [
    "!pip install -r requirements.txt"
   ]
  },
  {
   "cell_type": "code",
   "execution_count": 1,
   "metadata": {},
   "outputs": [
    {
     "name": "stdout",
     "output_type": "stream",
     "text": [
      "/bin/sh: apt-get: command not found\r\n"
     ]
    }
   ],
   "source": [
    "!apt-get install protobuf-compiler"
   ]
  },
  {
   "cell_type": "code",
   "execution_count": 2,
   "metadata": {},
   "outputs": [],
   "source": [
    "!protoc object_detection/protos/*.proto --python_out=."
   ]
  },
  {
   "cell_type": "code",
   "execution_count": 15,
   "metadata": {},
   "outputs": [
    {
     "name": "stdout",
     "output_type": "stream",
     "text": [
      "/Users/vasya/Documents/ML/Object-Detection-Quidditch/object_detection/utils/dataset_util.py:75: FutureWarning: The behavior of this method will change in future versions. Use specific 'len(elem)' or 'elem is not None' test instead.\n",
      "  if not xml:\n",
      "WARNING:root:Could not find annotations/xmls/_DSC4168_71JrQ5DwqL.xml, ignoring example.\n",
      "WARNING:root:Could not find annotations/xmls/_DSC4155_ridIknYR6M.xml, ignoring example.\n",
      "WARNING:root:Could not find annotations/xmls/_DSC4168_5F3wo6QfbF.xml, ignoring example.\n",
      "WARNING:root:Could not find annotations/xmls/_DSC4168_WTkjkdlO6r.xml, ignoring example.\n",
      "WARNING:root:Could not find annotations/xmls/_DSC4155_B7RcdXrSHW.xml, ignoring example.\n",
      "WARNING:root:Could not find annotations/xmls/_DSC4168_yBKDcKRWCa.xml, ignoring example.\n",
      "WARNING:root:Could not find annotations/xmls/_DSC4162_QUM1kFuPKG.xml, ignoring example.\n",
      "WARNING:root:Could not find annotations/xmls/_DSC4168_birCGwZJHd.xml, ignoring example.\n",
      "WARNING:root:Could not find annotations/xmls/_DSC4162_SRWqtXmimj.xml, ignoring example.\n",
      "WARNING:root:Could not find annotations/xmls/_DSC4168_bdZWkY5Fmj.xml, ignoring example.\n",
      "WARNING:root:Could not find annotations/xmls/_DSC4155_GhCRFAwfsy.xml, ignoring example.\n",
      "WARNING:root:Could not find annotations/xmls/_DSC4162_o4bg9QMJ6d.xml, ignoring example.\n",
      "WARNING:root:Could not find annotations/xmls/_DSC4168_MtL9IvquZs.xml, ignoring example.\n",
      "WARNING:root:Could not find annotations/xmls/_DSC4155_qgkyA6vlyV.xml, ignoring example.\n",
      "WARNING:root:Could not find annotations/xmls/_DSC4162_kEv7TbNp8F.xml, ignoring example.\n",
      "WARNING:root:Could not find annotations/xmls/_DSC4168_GUHl8xqUAH.xml, ignoring example.\n",
      "WARNING:root:Could not find annotations/xmls/_DSC4168_wgkhRJzHgm.xml, ignoring example.\n",
      "WARNING:root:Could not find annotations/xmls/_DSC4168_HmOx4nGUPf.xml, ignoring example.\n",
      "WARNING:root:Could not find annotations/xmls/_DSC4168_Z45WoGWSYj.xml, ignoring example.\n",
      "WARNING:root:Could not find annotations/xmls/_DSC4168_mrOpBveAhw.xml, ignoring example.\n"
     ]
    }
   ],
   "source": [
    "!python create_tf_record.py \\\n",
    "    --data_dir=`pwd` \\\n",
    "    --output_dir=`pwd`"
   ]
  },
  {
   "cell_type": "code",
   "execution_count": 17,
   "metadata": {},
   "outputs": [
    {
     "name": "stdout",
     "output_type": "stream",
     "text": [
      "/Users/vasya/Documents/ML/Object-Detection-Quidditch/../slim\n",
      "['', '/Users/vasya/Documents/ML/detection/wheat_one/research/object_detection', '/Users/vasya/Documents/ML/Object-Detection-Quidditch', '/Library/Frameworks/Python.framework/Versions/3.6/lib/python36.zip', '/Library/Frameworks/Python.framework/Versions/3.6/lib/python3.6', '/Library/Frameworks/Python.framework/Versions/3.6/lib/python3.6/lib-dynload', '/Library/Frameworks/Python.framework/Versions/3.6/lib/python3.6/site-packages', '/Library/Frameworks/Python.framework/Versions/3.6/lib/python3.6/site-packages/IPython/extensions', '/Users/vasya/.ipython', '..', '..', '..', '/Users/vasya/Documents/ML/Object-Detection-Quidditch', '/Users/vasya/Documents/ML/Object-Detection-Quidditch/slim', '..', './slim', '/Users/vasya/Documents/ML/Object-Detection-Quidditch', '/Users/vasya/Documents/ML/Object-Detection-Quidditch/slim', '..', './slim', '/Users/vasya/Documents/ML/Object-Detection-Quidditch', '/Users/vasya/Documents/ML/Object-Detection-Quidditch/slim', '..', './slim', '/Users/vasya/Documents/ML/Object-Detection-Quidditch', '/Users/vasya/Documents/ML/Object-Detection-Quidditch/slim', '..', './slim', '/Users/vasya/Documents/ML/Object-Detection-Quidditch', '/Users/vasya/Documents/ML/Object-Detection-Quidditch/slim', '..', './slim', '/Users/vasya/Documents/ML/Object-Detection-Quidditch', '/Users/vasya/Documents/ML/Object-Detection-Quidditch/slim', '..', '../slim', '/Users/vasya/Documents/ML/Object-Detection-Quidditch', '/Users/vasya/Documents/ML/Object-Detection-Quidditch/slim', '..', '../slim', '/Users/vasya/Documents/ML/Object-Detection-Quidditch', '/Users/vasya/Documents/ML/Object-Detection-Quidditch/slim']\n"
     ]
    }
   ],
   "source": [
    "#export PYTHONPATH=$PYTHONPATH:`pwd`:`pwd`/slim\n",
    "import os\n",
    "import sys\n",
    "sys.path.append(\"..\")\n",
    "sys.path.append(\"../slim\")\n",
    "print(os.path.join(os.getcwd(),\"..\",\"slim\"))\n",
    "sys.path.append(os.path.join(os.getcwd()))\n",
    "sys.path.append(os.path.join(os.getcwd(),\"slim\"))\n",
    "print(sys.path)"
   ]
  },
  {
   "cell_type": "code",
   "execution_count": 19,
   "metadata": {},
   "outputs": [
    {
     "name": "stdout",
     "output_type": "stream",
     "text": [
      "Traceback (most recent call last):\r\n",
      "  File \"object_detection/train.py\", line 49, in <module>\r\n",
      "    from object_detection import trainer\r\n",
      "  File \"/Users/vasya/Documents/ML/Object-Detection-Quidditch/object_detection/trainer.py\", line 37, in <module>\r\n",
      "    from deployment import model_deploy\r\n",
      "ModuleNotFoundError: No module named 'deployment'\r\n"
     ]
    }
   ],
   "source": [
    "!python object_detection/train.py \\\n",
    "    --logtostderr \\\n",
    "    --pipeline_config_path=pipeline.config \\\n",
    "    --train_dir=train"
   ]
  },
  {
   "cell_type": "code",
   "execution_count": null,
   "metadata": {},
   "outputs": [],
   "source": [
    "!python object_detection/export_inference_graph.py \\\n",
    "--input_type=image_tensor \\\n",
    "--pipeline_config_path=pipeline.config \\\n",
    "--trained_checkpoint_prefix=train/model.ckpt-xxxxx \\\n",
    "--output_directory=output"
   ]
  },
  {
   "cell_type": "code",
   "execution_count": null,
   "metadata": {},
   "outputs": [],
   "source": [
    "python object_detection/inference.py \\\n",
    "--input_dir={PATH} \\\n",
    "--output_dir={PATH} \\\n",
    "--label_map={PATH} \\\n",
    "--frozen_graph={PATH} \\\n",
    "--num_output_classes={NUM}"
   ]
  }
 ],
 "metadata": {
  "kernelspec": {
   "display_name": "Python 3",
   "language": "python",
   "name": "python3"
  },
  "language_info": {
   "codemirror_mode": {
    "name": "ipython",
    "version": 3
   },
   "file_extension": ".py",
   "mimetype": "text/x-python",
   "name": "python",
   "nbconvert_exporter": "python",
   "pygments_lexer": "ipython3",
   "version": "3.6.4"
  }
 },
 "nbformat": 4,
 "nbformat_minor": 1
}
